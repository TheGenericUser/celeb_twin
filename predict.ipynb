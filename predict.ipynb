{
 "cells": [
  {
   "cell_type": "code",
   "execution_count": 1,
   "id": "159be62f",
   "metadata": {},
   "outputs": [],
   "source": [
    "from keras_vggface.utils import preprocess_input\n",
    "from keras_vggface.vggface import VGGFace\n",
    "import numpy as np\n",
    "import pickle\n",
    "from sklearn.metrics.pairwise import cosine_similarity\n",
    "import cv2\n",
    "from mtcnn import MTCNN\n",
    "from PIL import Image"
   ]
  },
  {
   "cell_type": "code",
   "execution_count": 2,
   "id": "adacb578",
   "metadata": {},
   "outputs": [],
   "source": [
    "feature_list = np.array(pickle.load(open('embedding.pkl','rb')))\n",
    "filenames = pickle.load(open('filenames.pkl','rb'))"
   ]
  },
  {
   "cell_type": "code",
   "execution_count": 3,
   "id": "21999f5e",
   "metadata": {},
   "outputs": [],
   "source": [
    "model = VGGFace(model='resnet50',include_top=False,input_shape=(224,224,3),pooling='avg')\n",
    "detector = MTCNN()"
   ]
  },
  {
   "cell_type": "code",
   "execution_count": 24,
   "id": "2be00ef6",
   "metadata": {},
   "outputs": [],
   "source": [
    "def predict(path):\n",
    "    # load img -> face detection\n",
    "    sample_img = cv2.imread('sample/'+path)\n",
    "    results = detector.detect_faces(sample_img)\n",
    "\n",
    "    x,y,width,height = results[0]['box']\n",
    "\n",
    "    face = sample_img[y:y+height,x:x+width]\n",
    "\n",
    "    # extract its features\n",
    "    image = Image.fromarray(face)\n",
    "    image = image.resize((224,224))\n",
    "\n",
    "    face_array = np.asarray(image)\n",
    "\n",
    "    face_array = face_array.astype('float32')\n",
    "\n",
    "    expanded_img = np.expand_dims(face_array,axis=0)\n",
    "    preprocessed_img = preprocess_input(expanded_img)\n",
    "    print('presprocessed the image')\n",
    "    \n",
    "    result = model.predict(preprocessed_img).flatten()\n",
    "    \n",
    "    print('calced the prediction')\n",
    "    \n",
    "    similarity = []\n",
    "    for i in range(len(feature_list)):\n",
    "        similarity.append(cosine_similarity(result.reshape(1,-1),feature_list[i].reshape(1,-1))[0][0])\n",
    "        \n",
    "    print('made the similarity list')\n",
    "\n",
    "    index_pos = sorted(list(enumerate(similarity)),reverse=True,key=lambda x:x[1])[0][0]\n",
    "    print('the index is'+str(index_pos))\n",
    "    print(feature_list[index_pos])\n",
    "    image_path = filenames[index_pos]\n",
    "    image = Image.open(image_path)\n",
    "    image_np = np.array(image)\n",
    "    print('you look like '+filenames[index_pos].split('\\\\')[1])\n",
    "    plt.imshow(image_np)\n",
    "    plt.axis('off')  # Optionally turn off the axis\n",
    "    plt.show()\n",
    "#     temp_img = cv2.imread(filenames[index_pos])\n",
    "#     print('got the image')\n",
    "#     cv2.imshow('output',temp_img)\n",
    "    print('showed the imaged')\n",
    "#     cv2.waitKey(0)"
   ]
  },
  {
   "cell_type": "code",
   "execution_count": 39,
   "id": "a5b7310f",
   "metadata": {
    "scrolled": true
   },
   "outputs": [
    {
     "name": "stdout",
     "output_type": "stream",
     "text": [
      "presprocessed the image\n",
      "calced the prediction\n",
      "made the similarity list\n",
      "the index is6485\n",
      "[0.         0.         0.         ... 0.         0.00345488 0.        ]\n",
      "you look like Shilpa_Shetty\n"
     ]
    },
    {
     "data": {
      "image/png": "[encoded data removed]",
      "text/plain": [
       "<Figure size 640x480 with 1 Axes>"
      ]
     },
     "metadata": {},
     "output_type": "display_data"
    },
    {
     "name": "stdout",
     "output_type": "stream",
     "text": [
      "showed the imaged\n"
     ]
    }
   ],
   "source": [
    "predict('mum.jpg')"
   ]
  },
  {
   "cell_type": "code",
   "execution_count": 23,
   "id": "624b82b6",
   "metadata": {},
   "outputs": [],
   "source": [
    "import matplotlib.pyplot as plt"
   ]
  },
  {
   "cell_type": "code",
   "execution_count": null,
   "id": "ad986830",
   "metadata": {},
   "outputs": [],
   "source": []
  },
  {
   "cell_type": "code",
   "execution_count": null,
   "id": "c135341d",
   "metadata": {},
   "outputs": [],
   "source": []
  }
 ],
 "metadata": {
  "kernelspec": {
   "display_name": "Python 3 (ipykernel)",
   "language": "python",
   "name": "python3"
  },
  "language_info": {
   "codemirror_mode": {
    "name": "ipython",
    "version": 3
   },
   "file_extension": ".py",
   "mimetype": "text/x-python",
   "name": "python",
   "nbconvert_exporter": "python",
   "pygments_lexer": "ipython3",
   "version": "3.7.0"
  }
 },
 "nbformat": 4,
 "nbformat_minor": 5
}
